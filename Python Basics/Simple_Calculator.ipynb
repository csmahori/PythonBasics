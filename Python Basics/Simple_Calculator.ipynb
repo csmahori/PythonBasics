{
 "cells": [
  {
   "cell_type": "markdown",
   "metadata": {},
   "source": [
    "## First Python Project\n",
    "### Simple Calculator"
   ]
  },
  {
   "cell_type": "code",
   "execution_count": 5,
   "metadata": {},
   "outputs": [
    {
     "name": "stdout",
     "output_type": "stream",
     "text": [
      "first number is: 15\n",
      "second number is: 3\n",
      "Addition of both the number: 18\n",
      "Addition of both the number: 12\n",
      "Addition of both the number: 45\n",
      "Addition of both the number: 5.0\n"
     ]
    }
   ],
   "source": [
    "num1 = int(input(\"Enter first Number\"))\n",
    "num2 = int(input(\"Enter second Number\"))\n",
    "\n",
    "sum = num1 + num2\n",
    "diff = num1 - num2\n",
    "mult = num1 * num2\n",
    "div = num1 / num2\n",
    "\n",
    "print(\"first number is:\",num1)\n",
    "print(\"second number is:\",num2)\n",
    "print(\"Addition of both the number:\",sum)\n",
    "print(\"Addition of both the number:\",diff)\n",
    "print(\"Addition of both the number:\",mult)\n",
    "print(\"Addition of both the number:\",div) "
   ]
  }
 ],
 "metadata": {
  "kernelspec": {
   "display_name": "Python 3",
   "language": "python",
   "name": "python3"
  },
  "language_info": {
   "codemirror_mode": {
    "name": "ipython",
    "version": 3
   },
   "file_extension": ".py",
   "mimetype": "text/x-python",
   "name": "python",
   "nbconvert_exporter": "python",
   "pygments_lexer": "ipython3",
   "version": "3.12.0"
  }
 },
 "nbformat": 4,
 "nbformat_minor": 2
}
