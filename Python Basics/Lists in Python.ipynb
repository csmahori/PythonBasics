{
 "cells": [
  {
   "cell_type": "markdown",
   "metadata": {},
   "source": [
    "### List in Python - Practice"
   ]
  },
  {
   "cell_type": "code",
   "execution_count": null,
   "metadata": {},
   "outputs": [
    {
     "name": "stdout",
     "output_type": "stream",
     "text": [
      "<class 'list'>\n"
     ]
    }
   ],
   "source": [
    "# Basic List \n",
    "w_list = []\n",
    "print(type(w_list))"
   ]
  },
  {
   "cell_type": "code",
   "execution_count": 7,
   "metadata": {},
   "outputs": [
    {
     "name": "stdout",
     "output_type": "stream",
     "text": [
      "['Ram', 'Sita', 'Laxman', 'Hanuman', 1, 2, 3, 4, 5]\n"
     ]
    }
   ],
   "source": [
    "# List with different Data type\n",
    "names = [\"Ram\", \"Sita\", \"Laxman\", \"Hanuman\", 1, 2,3,4, 5]\n",
    "print(names)"
   ]
  },
  {
   "cell_type": "code",
   "execution_count": 8,
   "metadata": {},
   "outputs": [
    {
     "name": "stdout",
     "output_type": "stream",
     "text": [
      "[1, 'Hello', 3.14, True]\n"
     ]
    }
   ],
   "source": [
    "# Mixed list\n",
    "mixed_list = [1,\"Hello\",3.14, True]\n",
    "print(mixed_list)"
   ]
  },
  {
   "cell_type": "code",
   "execution_count": 25,
   "metadata": {},
   "outputs": [
    {
     "name": "stdout",
     "output_type": "stream",
     "text": [
      "Apple\n",
      "Grapes\n",
      "Orange\n",
      "Grapes\n"
     ]
    }
   ],
   "source": [
    "### Accessing List elements\n",
    "fruits = [\"Apple\",\"Banana\",\"Cherry\",\"Grapes\",\"Orange\"]\n",
    "print(fruits[0])\n",
    "print(fruits[3])\n",
    "\n",
    "## Accessing list from last\n",
    "print(fruits[-1])\n",
    "print(fruits[-2])"
   ]
  },
  {
   "cell_type": "code",
   "execution_count": 30,
   "metadata": {},
   "outputs": [
    {
     "name": "stdout",
     "output_type": "stream",
     "text": [
      "['Banana', 'Cherry', 'Grapes', 'Orange']\n",
      "['Apple', 'Banana']\n",
      "['Grapes', 'Orange']\n",
      "[]\n",
      "[]\n"
     ]
    }
   ],
   "source": [
    "# Accesing limited elements\n",
    "print(fruits[1:])\n",
    "## starting with 0th and until before 2nd(excluding 2nd element)\n",
    "print(fruits[0:2])\n",
    "\n",
    "## Acccessing list from right with range??? \n",
    "print(fruits[-2:])\n",
    "\n",
    "#Not allowed accessing multiple elements positions\n",
    "print(fruits[-1:1])\n",
    "print(fruits[-1:-1])"
   ]
  },
  {
   "cell_type": "code",
   "execution_count": 20,
   "metadata": {},
   "outputs": [
    {
     "data": {
      "text/plain": [
       "'Banana'"
      ]
     },
     "execution_count": 20,
     "metadata": {},
     "output_type": "execute_result"
    }
   ],
   "source": [
    "#Modify the list Elements\n",
    "fruits[1]"
   ]
  },
  {
   "cell_type": "code",
   "execution_count": 33,
   "metadata": {},
   "outputs": [
    {
     "name": "stdout",
     "output_type": "stream",
     "text": [
      "Watermelon\n",
      "['Apple', 'W', 'a', 't', 'e', 'r', 'm', 'e', 'l', 'o', 'n']\n"
     ]
    }
   ],
   "source": [
    "#Modify the list elements\n",
    "fruits[1] = \"Watermelon\"\n",
    "print(fruits[1])\n",
    "\n",
    "## Careful with below statements\n",
    "fruits[1:] = \"Watermelon\"\n",
    "print(fruits)"
   ]
  },
  {
   "cell_type": "code",
   "execution_count": 44,
   "metadata": {},
   "outputs": [
    {
     "name": "stdout",
     "output_type": "stream",
     "text": [
      "['Apple', 'Banana', 'Cherry', 'Grapes', 'Orange']\n",
      "['Apple', 'Banana', 'Cherry', 'Grapes', 'Orange', 'Watermelon']\n",
      "['Apple', 'Dry fruits', 'Banana', 'Cherry', 'Grapes', 'Orange', 'Watermelon']\n",
      "['Apple', 'Dry fruits', 'Banana', 'Cherry', 'Dry fruits', 'Grapes', 'Orange', 'Watermelon']\n",
      "['Apple', 'Banana', 'Cherry', 'Dry fruits', 'Grapes', 'Orange', 'Watermelon']\n",
      "['Apple', 'Banana', 'Cherry', 'Grapes', 'Orange', 'Watermelon']\n"
     ]
    }
   ],
   "source": [
    "#List Methods\n",
    "fruits = [\"Apple\",\"Banana\",\"Cherry\",\"Grapes\",\"Orange\"]\n",
    "print(fruits)\n",
    "\n",
    "#Adding an item to the end\n",
    "fruits.append(\"Watermelon\")\n",
    "print(fruits)\n",
    "\n",
    "#Adding item at a specific index\n",
    "fruits.insert(1,\"Dry fruits\")\n",
    "print(fruits)\n",
    "\n",
    "#Adding item at a specific index\n",
    "fruits.insert(4,\"Dry fruits\")\n",
    "print(fruits)\n",
    "\n",
    "#remove an item\n",
    "fruits.remove(\"Dry fruits\")\n",
    "print(fruits)\n",
    "\n",
    "#remove an item\n",
    "fruits.remove(\"Dry fruits\")\n",
    "print(fruits)\n"
   ]
  },
  {
   "cell_type": "code",
   "execution_count": 2,
   "metadata": {},
   "outputs": [
    {
     "name": "stdout",
     "output_type": "stream",
     "text": [
      "['Apple', 'Banana', 'Cherry', 'Grapes', 'Orange']\n",
      "Orange\n",
      "['Apple', 'Banana', 'Cherry', 'Grapes']\n"
     ]
    }
   ],
   "source": [
    "#Remove and return the last element\n",
    "fruits = [\"Apple\",\"Banana\",\"Cherry\",\"Grapes\",\"Orange\"]\n",
    "print(fruits)\n",
    "\n",
    "popped_fruit = fruits.pop()\n",
    "print(popped_fruit)\n",
    "print(fruits)"
   ]
  },
  {
   "cell_type": "code",
   "execution_count": 4,
   "metadata": {},
   "outputs": [
    {
     "name": "stdout",
     "output_type": "stream",
     "text": [
      "1\n",
      "['Apple', 'Banana', 'Cherry', 'Banana', 'Grapes', 'Orange']\n",
      "2\n"
     ]
    }
   ],
   "source": [
    "#Index and count of element in the list\n",
    "fruits = [\"Apple\",\"Banana\",\"Cherry\",\"Grapes\",\"Orange\"]\n",
    "w_index = fruits.index(\"Banana\")\n",
    "print(w_index)\n",
    "\n",
    "fruits.insert(3,\"Banana\")\n",
    "print(fruits)\n",
    "print(fruits.count(\"Banana\"))"
   ]
  },
  {
   "cell_type": "code",
   "execution_count": 59,
   "metadata": {},
   "outputs": [
    {
     "name": "stdout",
     "output_type": "stream",
     "text": [
      "['Orange', 'Banana', 'Cherry', 'Banana', 'Apple']\n",
      "['Apple', 'Banana', 'Banana', 'Cherry', 'Orange']\n",
      "['Orange', 'Cherry', 'Banana', 'Banana', 'Apple']\n",
      "[]\n"
     ]
    }
   ],
   "source": [
    "#sort/reverse/clear list\n",
    "fruits = [\"Orange\",\"Banana\",\"Cherry\",\"Banana\",\"Apple\"]\n",
    "print(fruits)\n",
    "\n",
    "fruits.sort()\n",
    "print(fruits)\n",
    "\n",
    "fruits.reverse()\n",
    "print(fruits)\n",
    "\n",
    "fruits.clear()\n",
    "print(fruits)"
   ]
  },
  {
   "cell_type": "code",
   "execution_count": 64,
   "metadata": {},
   "outputs": [
    {
     "name": "stdout",
     "output_type": "stream",
     "text": [
      "[1, 2, 3, 4, 5, 6, 7, 8, 9, 10]\n",
      "[3, 4, 5]\n",
      "[1, 2, 3, 4, 5]\n",
      "[1, 3, 5, 7, 9]\n",
      "[10, 9, 8, 7, 6, 5, 4, 3, 2, 1]\n",
      "[10]\n",
      "[10, 8, 6, 4, 2]\n",
      "[9, 7, 5, 3, 1]\n"
     ]
    }
   ],
   "source": [
    "#Slicing list\n",
    "numbers = [1,2,3,4,5,6,7,8,9,10]\n",
    "print(numbers)\n",
    "\n",
    "print(numbers[2:5])\n",
    "print(numbers[:5])\n",
    "print(numbers[::2])\n",
    "print(numbers[::-1])\n",
    "print(numbers[-1:])\n",
    "print(numbers[::-2])\n",
    "print(numbers[-2::-2])\n"
   ]
  },
  {
   "cell_type": "code",
   "execution_count": 67,
   "metadata": {},
   "outputs": [
    {
     "name": "stdout",
     "output_type": "stream",
     "text": [
      "['Orange', 'Banana', 'Cherry', 'Banana', 'Apple']\n",
      "Orange\n",
      "Banana\n",
      "Cherry\n",
      "Banana\n",
      "Apple\n",
      "1\n",
      "2\n",
      "3\n",
      "4\n",
      "5\n",
      "6\n",
      "7\n",
      "8\n",
      "9\n",
      "10\n"
     ]
    }
   ],
   "source": [
    "##Iterating over list\n",
    "fruits = [\"Orange\",\"Banana\",\"Cherry\",\"Banana\",\"Apple\"]\n",
    "print(fruits)\n",
    "\n",
    "for fruit in fruits:\n",
    "    print(fruit)\n",
    "    \n",
    "\n",
    "for number in numbers:\n",
    "    print(number)"
   ]
  },
  {
   "cell_type": "code",
   "execution_count": 70,
   "metadata": {},
   "outputs": [
    {
     "name": "stdout",
     "output_type": "stream",
     "text": [
      "index: 0 and Value: 1\n",
      "index: 1 and Value: 2\n",
      "index: 2 and Value: 3\n",
      "index: 3 and Value: 4\n",
      "index: 4 and Value: 5\n",
      "index: 5 and Value: 6\n",
      "index: 6 and Value: 7\n",
      "index: 7 and Value: 8\n",
      "index: 8 and Value: 9\n",
      "index: 9 and Value: 10\n"
     ]
    }
   ],
   "source": [
    "#Iterating with index\n",
    "for w_index, w_value in enumerate(numbers):\n",
    "    print(\"index:\",w_index,\"and Value:\",w_value)"
   ]
  },
  {
   "cell_type": "code",
   "execution_count": 73,
   "metadata": {},
   "outputs": [
    {
     "name": "stdout",
     "output_type": "stream",
     "text": [
      "[0, 1, 4, 9, 16, 25, 36, 49, 64, 81]\n"
     ]
    },
    {
     "data": {
      "text/plain": [
       "[0, 1, 4, 9, 16, 25, 36, 49, 64, 81]"
      ]
     },
     "execution_count": 73,
     "metadata": {},
     "output_type": "execute_result"
    }
   ],
   "source": [
    "#List Comprehension\n",
    "w_list = []\n",
    "for x in range(10):\n",
    "    w_list.append(x**2)\n",
    "\n",
    "print(w_list)\n",
    "\n",
    "##Another way of writing this\n",
    "[x**2 for x in range(10)]"
   ]
  },
  {
   "cell_type": "markdown",
   "metadata": {},
   "source": [
    "##### List Comprehension\n",
    "Basic Syntax [expression for item in iterable]\n",
    "\n",
    "with conditional logic [expression for item in iterable if condition]\n",
    "\n",
    "Nested List comprehension [expression for item in iterable1 for item2 in iterable2]"
   ]
  },
  {
   "cell_type": "code",
   "execution_count": 5,
   "metadata": {},
   "outputs": [
    {
     "name": "stdout",
     "output_type": "stream",
     "text": [
      "[0, 1, 4, 9, 16]\n",
      "[0, 1, 4, 9, 16]\n"
     ]
    }
   ],
   "source": [
    "#More examples on List comprehension\n",
    "\n",
    "#Basic List comprehension \n",
    "w_square = []\n",
    "for num in range(5):\n",
    "    w_square.append(num**2)\n",
    "print(w_square)\n",
    "\n",
    "\n",
    "w_square1 = [num**2 for num in range(5)]\n",
    "print(w_square1)"
   ]
  },
  {
   "cell_type": "code",
   "execution_count": 6,
   "metadata": {},
   "outputs": [
    {
     "name": "stdout",
     "output_type": "stream",
     "text": [
      "[0, 2, 4, 6, 8]\n",
      "[0, 2, 4, 6, 8]\n"
     ]
    }
   ],
   "source": [
    "#List comprehension with Condition\n",
    "w_even = []\n",
    "for i in range(10):\n",
    "    if i%2==0:\n",
    "        w_even.append(i)\n",
    "print(w_even)\n",
    "\n",
    "w_even1 = [i for i in range(10) if i%2==0]\n",
    "print(w_even1)"
   ]
  },
  {
   "cell_type": "code",
   "execution_count": 7,
   "metadata": {},
   "outputs": [
    {
     "name": "stdout",
     "output_type": "stream",
     "text": [
      "[[1, 'a'], [1, 'b'], [1, 'c'], [1, 'd'], [2, 'a'], [2, 'b'], [2, 'c'], [2, 'd'], [3, 'a'], [3, 'b'], [3, 'c'], [3, 'd'], [4, 'a'], [4, 'b'], [4, 'c'], [4, 'd']]\n"
     ]
    }
   ],
   "source": [
    "#Nested List comprehension [expression for item in iterable1 for item2 in iterable2]\n",
    "\n",
    "list1 = [1,2,3,4]\n",
    "list2 = ['a','b','c','d']\n",
    "\n",
    "pair= [[i,j] for i in list1 for j in list2]\n",
    "print(pair)"
   ]
  },
  {
   "cell_type": "code",
   "execution_count": 21,
   "metadata": {},
   "outputs": [
    {
     "name": "stdout",
     "output_type": "stream",
     "text": [
      "Length of list elements:\n",
      "[5, 6, 5, 6, 5, 5, 7, 6, 5, 5, 8]\n",
      "Indices of elements with len(element) > 5:\n",
      "[1, 3, 6, 7, 10]\n"
     ]
    }
   ],
   "source": [
    "#List comprehension with function calls\n",
    "\n",
    "words = [\"first\",\"second\",\"third\",\"fourth\",\"fifth\",\"sixth\",\"seventh\",\"eighth\",\"ninth\",\"tenth\",\"eleventh\"]\n",
    "length = [len(word) for word in words]\n",
    "print(\"Length of list elements:\")\n",
    "print(length)\n",
    "\n",
    "idx_for_len_GT_5 = [words.index(word) for word in words if len(word)>5]\n",
    "print(\"Indices of elements with len(element) > 5:\")\n",
    "print(idx_for_len_GT_5)"
   ]
  },
  {
   "cell_type": "code",
   "execution_count": null,
   "metadata": {},
   "outputs": [],
   "source": []
  }
 ],
 "metadata": {
  "kernelspec": {
   "display_name": "Python 3",
   "language": "python",
   "name": "python3"
  },
  "language_info": {
   "codemirror_mode": {
    "name": "ipython",
    "version": 3
   },
   "file_extension": ".py",
   "mimetype": "text/x-python",
   "name": "python",
   "nbconvert_exporter": "python",
   "pygments_lexer": "ipython3",
   "version": "3.12.0"
  }
 },
 "nbformat": 4,
 "nbformat_minor": 2
}
