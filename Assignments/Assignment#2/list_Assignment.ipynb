{
 "cells": [
  {
   "cell_type": "markdown",
   "id": "66861d8f",
   "metadata": {},
   "source": [
    "# Module 3: Data Structures Assignments\n",
    "## Lesson 3.1: Lists\n",
    "### Assignment 1: Creating and Accessing Lists\n",
    "\n",
    "Create a list of the first 20 positive integers. Print the list.\n",
    "\n",
    "### Assignment 2: Accessing List Elements\n",
    "\n",
    "Print the first, middle, and last elements of the list created in Assignment 1.\n",
    "\n",
    "### Assignment 3: List Slicing\n",
    "\n",
    "Print the first five elements, the last five elements, and the elements from index 5 to 15 of the list created in Assignment 1.\n",
    "\n",
    "### Assignment 4: List Comprehensions\n",
    "\n",
    "Create a new list containing the squares of the first 10 positive integers using a list comprehension. Print the new list.\n",
    "\n",
    "### Assignment 5: Filtering Lists\n",
    "\n",
    "Create a new list containing only the even numbers from the list created in Assignment 1 using a list comprehension. Print the new list.\n",
    "\n",
    "### Assignment 6: List Methods\n",
    "\n",
    "Create a list of random numbers and sort it in ascending and descending order. Remove the duplicates from the list and print the modified list.\n",
    "\n",
    "### Assignment 7: Nested Lists\n",
    "\n",
    "Create a nested list representing a 3x3 matrix and print the matrix. Access and print the element at the second row and third column.\n",
    "\n",
    "### Assignment 8: List of Dictionaries\n",
    "\n",
    "Create a list of dictionaries where each dictionary represents a student with keys 'name' and 'score'. Sort the list of dictionaries by the 'score' in descending order and print the sorted list.\n",
    "\n",
    "### Assignment 9: Matrix Transposition\n",
    "\n",
    "Write a function that takes a 3x3 matrix (nested list) as input and returns its transpose. Print the original and transposed matrices.\n",
    "\n",
    "### Assignment 10: Flattening a Nested List\n",
    "\n",
    "Write a function that takes a nested list and flattens it into a single list. Print the original and flattened lists.\n",
    "\n",
    "### Assignment 11: List Manipulation\n",
    "\n",
    "Create a list of the first 10 positive integers. Remove the elements at indices 2, 4, and 6, and insert the element '99' at index 5. Print the modified list.\n",
    "\n",
    "### Assignment 12: List Zipping\n",
    "\n",
    "Create two lists of the same length. Use the `zip` function to combine these lists into a list of tuples and print the result.\n",
    "\n",
    "### Assignment 13: List Reversal\n",
    "\n",
    "Write a function that takes a list and returns a new list with the elements in reverse order. Print the original and reversed lists.\n",
    "\n",
    "### Assignment 14: List Rotation\n",
    "\n",
    "Write a function that rotates a list by n positions. Print the original and rotated lists.\n",
    "\n",
    "### Assignment 15: List Intersection\n",
    "\n",
    "Write a function that takes two lists and returns a new list containing only the elements that are present in both lists. Print the intersected list."
   ]
  },
  {
   "cell_type": "markdown",
   "id": "2ed235f2",
   "metadata": {},
   "source": [
    "# ---------------------- Assignemnt - Solutions --------------------"
   ]
  },
  {
   "cell_type": "code",
   "execution_count": null,
   "id": "71c8affe",
   "metadata": {},
   "outputs": [
    {
     "name": "stdout",
     "output_type": "stream",
     "text": [
      "Method# 1\n",
      "[1, 2, 3, 4, 5, 6, 7, 8, 9, 10, 11, 12, 13, 14, 15, 16, 17, 18, 19, 20]\n",
      "Method# 2\n",
      "[1, 2, 3, 4, 5, 6, 7, 8, 9, 10, 11, 12, 13, 14, 15, 16, 17, 18, 19, 20]\n"
     ]
    }
   ],
   "source": [
    "### Assignment 1: Creating and Accessing Lists\n",
    "#Create a list of the first 20 positive integers. Print the list.\n",
    "\n",
    "#Method1\n",
    "positive_list = []\n",
    "for i in range(20):\n",
    "    positive_list.append(i+1)\n",
    "print(\"Method# 1\")\n",
    "print(positive_list)\n",
    "\n",
    "print(\"Method# 2\")\n",
    "print([i+1 for i in range(20)])"
   ]
  },
  {
   "cell_type": "code",
   "execution_count": 20,
   "id": "755a8fa7",
   "metadata": {},
   "outputs": [
    {
     "name": "stdout",
     "output_type": "stream",
     "text": [
      "First element in the list: 1\n",
      "Middle element in the list: 11\n",
      "Last element in the list: 20\n"
     ]
    }
   ],
   "source": [
    "### Assignment 2: Accessing List Elements\n",
    "#Print the first, middle, and last elements of the list created in Assignment 1.\n",
    "\n",
    "print(\"First element in the list:\",positive_list[0])\n",
    "print(\"Middle element in the list:\",positive_list[len(positive_list)//2])\n",
    "print(\"Last element in the list:\",positive_list[-1])"
   ]
  },
  {
   "cell_type": "code",
   "execution_count": 28,
   "id": "247dca2e",
   "metadata": {},
   "outputs": [
    {
     "name": "stdout",
     "output_type": "stream",
     "text": [
      "first five elements in the list are:\n",
      "[1, 2, 3, 4, 5]\n",
      "Last five elements in the list are:\n",
      "[16, 17, 18, 19, 20]\n",
      "Elements from index 5 to 15 in the list are:\n",
      "[5, 6, 7, 8, 9, 10, 11, 12, 13, 14, 15, 16]\n",
      "15\n"
     ]
    }
   ],
   "source": [
    "### Assignment 3: List Slicing\n",
    "\n",
    "#Print the first five elements, the last five elements, and the elements from index 5 to 15 of the list created in Assignment 1.\n",
    "\n",
    "print(\"first five elements in the list are:\")\n",
    "print(positive_list[:5])\n",
    "\n",
    "print(\"Last five elements in the list are:\")\n",
    "print(positive_list[-5:])\n",
    "\n",
    "print(\"Elements from index 5 to 15 in the list are:\")\n",
    "print(positive_list[4:16])\n",
    "\n",
    "print(positive_list.index(16))\n"
   ]
  },
  {
   "cell_type": "code",
   "execution_count": 30,
   "id": "f228d302",
   "metadata": {},
   "outputs": [
    {
     "name": "stdout",
     "output_type": "stream",
     "text": [
      "[1, 4, 9, 16, 25, 36, 49, 64, 81, 100]\n"
     ]
    }
   ],
   "source": [
    "### Assignment 4: List Comprehensions\n",
    "\n",
    "#Create a new list containing the squares of the first 10 positive integers using a list comprehension. Print the new list.\n",
    "\n",
    "print([i**2 for i in range(1,11)])"
   ]
  },
  {
   "cell_type": "code",
   "execution_count": 31,
   "id": "ed33153e",
   "metadata": {},
   "outputs": [
    {
     "name": "stdout",
     "output_type": "stream",
     "text": [
      "[2, 4, 6, 8, 10, 12, 14, 16, 18, 20]\n"
     ]
    }
   ],
   "source": [
    "### Assignment 5: Filtering Lists\n",
    "\n",
    "#Create a new list containing only the even numbers from the list created in Assignment 1 using a list comprehension. Print the new list.\n",
    "\n",
    "print([i for i in positive_list if i%2==0])"
   ]
  },
  {
   "cell_type": "code",
   "execution_count": 42,
   "id": "69f33a11",
   "metadata": {},
   "outputs": [
    {
     "name": "stdout",
     "output_type": "stream",
     "text": [
      "Random list:\n",
      "[5, 9, 5, 7, 13, 13, 11, 9, 18, 9, 10, 10, 20, 11, 12]\n",
      "Sorted in ascending order\n",
      "[5, 5, 7, 9, 9, 9, 10, 10, 11, 11, 12, 13, 13, 18, 20]\n",
      "Sorted in descending order\n",
      "[20, 18, 13, 13, 12, 11, 11, 10, 10, 9, 9, 9, 7, 5, 5]\n"
     ]
    }
   ],
   "source": [
    "### Assignment 6: List Methods\n",
    "\n",
    "#Create a list of random numbers and sort it in ascending and descending order. Remove the duplicates from the list and print the modified list.\n",
    "import random\n",
    "print(\"Random list:\")\n",
    "random_numbers_list = [random.randint(1,20) for _ in range(15)]\n",
    "print(random_numbers_list)\n",
    "\n",
    "print(\"Sorted in ascending order\")\n",
    "random_numbers_list.sort()\n",
    "print(random_numbers_list)\n",
    "\n",
    "print(\"Sorted in descending order\")\n",
    "random_numbers_list.reverse()\n",
    "print(random_numbers_list)"
   ]
  },
  {
   "cell_type": "code",
   "execution_count": 47,
   "id": "466d125d",
   "metadata": {},
   "outputs": [
    {
     "name": "stdout",
     "output_type": "stream",
     "text": [
      "[5, 7, 9, 10, 11, 12, 13, 18, 20]\n"
     ]
    }
   ],
   "source": [
    "unique_random_numbers_list = list(set(random_numbers_list))\n",
    "print(unique_random_numbers_list)"
   ]
  },
  {
   "cell_type": "code",
   "execution_count": 54,
   "id": "fd5408f4",
   "metadata": {},
   "outputs": [
    {
     "name": "stdout",
     "output_type": "stream",
     "text": [
      "Matrix:\n",
      "[1, 2, 3]\n",
      "[4, 5, 6]\n",
      "[7, 8, 9]\n",
      "Element at the second row and third column: 6\n"
     ]
    }
   ],
   "source": [
    "### Assignment 7: Nested Lists\n",
    "\n",
    "#Create a nested list representing a 3x3 matrix and print the matrix. Access and print the element at the second row and third column.\n",
    "\n",
    "matrix_3x3_list = [[1,2,3],\n",
    "                   [4,5,6],\n",
    "                   [7,8,9]]\n",
    "print(\"Matrix:\")\n",
    "for row in matrix_3x3_list:\n",
    "    print(row)\n",
    "print(\"Element at the second row and third column:\",matrix_3x3_list[1][2])"
   ]
  },
  {
   "cell_type": "code",
   "execution_count": 64,
   "id": "ec549441",
   "metadata": {},
   "outputs": [
    {
     "name": "stdout",
     "output_type": "stream",
     "text": [
      "[{'name': 'Raman', 'score': '57'}, {'name': 'Naman', 'score': '75'}, {'name': 'Kaman', 'score': '54'}, {'name': 'Taman', 'score': '65'}]\n",
      "[{'name': 'Naman', 'score': '75'}, {'name': 'Taman', 'score': '65'}, {'name': 'Raman', 'score': '57'}, {'name': 'Kaman', 'score': '54'}]\n"
     ]
    }
   ],
   "source": [
    "### Assignment 8: List of Dictionaries\n",
    "\n",
    "#Create a list of dictionaries where each dictionary represents a student with keys 'name' and 'score'. \n",
    "# Sort the list of dictionaries by the 'score' in descending order and print the sorted list.\n",
    "students = [{\"name\":\"Raman\",\"score\":\"57\"},\n",
    "            {\"name\":\"Naman\",\"score\":\"75\"},\n",
    "            {\"name\":\"Kaman\",\"score\":\"54\"},\n",
    "            {\"name\":\"Taman\",\"score\":\"65\"}]\n",
    "print(students)\n",
    "sorted_students = sorted(students,key=lambda x:x[\"score\"],reverse=True)\n",
    "print(sorted_students)"
   ]
  },
  {
   "cell_type": "code",
   "execution_count": 22,
   "id": "8503aeb5",
   "metadata": {},
   "outputs": [
    {
     "name": "stdout",
     "output_type": "stream",
     "text": [
      "Input Matrix:\n",
      "[[1, 2, 3], [1, 2, 9], [1, 8, 27]]\n",
      "In Tabular form:\n",
      "[1, 2, 3]\n",
      "[1, 2, 9]\n",
      "[1, 8, 27]\n",
      "Transposed Matrix:\n",
      "[[1, 1, 1], [2, 2, 8], [3, 9, 27]]\n",
      "In Tabular form:\n",
      "[1, 1, 1]\n",
      "[2, 2, 8]\n",
      "[3, 9, 27]\n"
     ]
    }
   ],
   "source": [
    "### Assignment 9: Matrix Transposition\n",
    "\n",
    "#Write a function that takes a 3x3 matrix (nested list) as input and returns its transpose. \n",
    "# Print the original and transposed matrices.\n",
    "\n",
    "def transpose_matrix_fun(matrix_3x3):\n",
    "    transposed_matrix = [[matrix_3x3[j][i] for j in range(3)] for i in range(3)]\n",
    "    return transposed_matrix\n",
    "\n",
    "input_matrix = [[1,2,3],[1,2,9],[1,8,27]]\n",
    "transposedMatrix = transpose_matrix_fun(input_matrix)\n",
    "print(\"Input Matrix:\")\n",
    "print(input_matrix)\n",
    "print(\"In Tabular form:\")\n",
    "for row in input_matrix:\n",
    "    print(row)\n",
    "\n",
    "print(\"Transposed Matrix:\")\n",
    "print(transposedMatrix)\n",
    "print(\"In Tabular form:\")\n",
    "for row in transposedMatrix:\n",
    "    print(row)"
   ]
  },
  {
   "cell_type": "code",
   "execution_count": 38,
   "id": "9a4b464e",
   "metadata": {},
   "outputs": [
    {
     "name": "stdout",
     "output_type": "stream",
     "text": [
      "[[1, 2, 3, 4, 5, 6, 7], [8, 9, 10, 11, 12, 13, 14]]\n",
      "[1, 2, 3, 4, 5, 6, 7, 8, 9, 10, 11, 12, 13, 14]\n"
     ]
    }
   ],
   "source": [
    "### Assignment 10: Flattening a Nested List\n",
    "\n",
    "#Write a function that takes a nested list and flattens it into a single list. \n",
    "# Print the original and flattened lists.\n",
    "\n",
    "def flattenList1(nested_list1):\n",
    "    flattened_list1 = [item1 for sublist1 in nested_list1 for item1 in sublist1]\n",
    "    return flattened_list1\n",
    "    \n",
    "nested_list = [[1,2,3,4,5,6,7],[8,9,10,11,12,13,14]]\n",
    "print(nested_list)\n",
    "flattened = flattenList1(nested_list)\n",
    "print(flattened)"
   ]
  },
  {
   "cell_type": "code",
   "execution_count": 45,
   "id": "8b7034bc",
   "metadata": {},
   "outputs": [
    {
     "name": "stdout",
     "output_type": "stream",
     "text": [
      "first 10 positive integers' list:\n",
      " [0, 1, 2, 3, 4, 5, 6, 7, 8, 9, 10]\n",
      "[0, 1, 3, 5, 7, 8, 9, 10]\n",
      "[0, 1, 3, 5, 7, 99, 8, 9, 10]\n"
     ]
    }
   ],
   "source": [
    "### Assignment 11: List Manipulation\n",
    "\n",
    "# Create a list of the first 10 positive integers. \n",
    "# Remove the elements at indices 2, 4, and 6, and insert the element '99' at index 5. \n",
    "# Print the modified list.\n",
    "\n",
    "w_list = [i for i in range(11)]\n",
    "print(f\"first 10 positive integers' list:\\n {w_list}\")\n",
    "w_list.remove(2)\n",
    "w_list.remove(4)\n",
    "w_list.remove(6)\n",
    "print(w_list)\n",
    "w_list.insert(5,99)\n",
    "print(w_list)"
   ]
  },
  {
   "cell_type": "code",
   "execution_count": 4,
   "id": "b5c96fae",
   "metadata": {},
   "outputs": [
    {
     "name": "stdout",
     "output_type": "stream",
     "text": [
      "[(1, 4), (2, 6), (3, 8), (5, 9), (7, 10), (11, 12)]\n"
     ]
    }
   ],
   "source": [
    "### Assignment 12: List Zipping\n",
    "\n",
    "#Create two lists of the same length. \n",
    "# Use the `zip` function to combine these lists into a list of tuples and print the result.\n",
    "\n",
    "list_1 = [1,2,3,5,7,11]\n",
    "list_2 = [4,6,8,9,10,12]\n",
    "\n",
    "zipped_list = list(zip(list_1,list_2))\n",
    "print(zipped_list)"
   ]
  },
  {
   "cell_type": "code",
   "execution_count": 23,
   "id": "ce54d7c1",
   "metadata": {},
   "outputs": [
    {
     "name": "stdout",
     "output_type": "stream",
     "text": [
      "Original List:[1, 2, 3, 4, 5, 6, 'a', 'b', 'c', 'd', 'e', 'f']\n",
      "Reverse List:['f', 'e', 'd', 'c', 'b', 'a', 6, 5, 4, 3, 2, 1]\n",
      "Original List1:[1, 2, 3, 4, 5, 6, 'a', 'b', 'c', 'd', 'e', 'f']\n",
      "Reverse List1:['f', 'e', 'd', 'c', 'b', 'a', 6, 5, 4, 3, 2, 1]\n"
     ]
    }
   ],
   "source": [
    "### Assignment 13: List Reversal\n",
    "# Write a function that takes a list and returns a new list with the elements in reverse order. \n",
    "# Print the original and reversed lists.\n",
    "\n",
    "def reverseList(orgList):\n",
    "    orgList.reverse()\n",
    "    return orgList\n",
    "\n",
    "Org_list = [1,2,3,4,5,6,\"a\",\"b\",\"c\",\"d\",\"e\",\"f\"]\n",
    "print(f\"Original List:{Org_list}\")\n",
    "Rev_Org_List = reverseList(Org_list)\n",
    "print(f\"Reverse List:{Rev_Org_List}\")\n",
    "\n",
    "###OR Another way\n",
    "def reverseList1(orgList1):\n",
    "    reversedList1 = orgList1[-1::-1]\n",
    "    return reversedList1\n",
    "Org_list1 = [1,2,3,4,5,6,\"a\",\"b\",\"c\",\"d\",\"e\",\"f\"]\n",
    "print(f\"Original List1:{Org_list1}\")\n",
    "Rev_Org_List1 = reverseList1(Org_list1)\n",
    "print(f\"Reverse List1:{Rev_Org_List1}\")\n"
   ]
  },
  {
   "cell_type": "code",
   "execution_count": 33,
   "id": "20d9eb3e",
   "metadata": {},
   "outputs": [
    {
     "name": "stdout",
     "output_type": "stream",
     "text": [
      "[1, 2, 3, 4, 5, 6, 7, 8, 9]\n",
      "value of position for list rotation: 4\n",
      "[5, 6, 7, 8, 9, 1, 2, 3, 4]\n"
     ]
    }
   ],
   "source": [
    "### Assignment 14: List Rotation\n",
    "# Write a function that rotates a list by n positions. Print the original and rotated lists.\n",
    "\n",
    "def rotateList(n,OrgList):\n",
    "   rotatedList = OrgList[n:] + OrgList[:n] \n",
    "   return rotatedList\n",
    "\n",
    "Org_list = [1,2,3,4,5,6,7,8,9]\n",
    "print(Org_list)\n",
    "n_rotation = int(input(\"enter the value of 'n' for rotation of the list\"))\n",
    "print(f\"value of position for list rotation: {n_rotation}\")\n",
    "rotated_List = rotateList(n_rotation,Org_list)\n",
    "print(rotated_List)\n"
   ]
  },
  {
   "cell_type": "code",
   "execution_count": 39,
   "id": "11cc95ec",
   "metadata": {},
   "outputs": [
    {
     "name": "stdout",
     "output_type": "stream",
     "text": [
      "[1, 2]\n"
     ]
    }
   ],
   "source": [
    "### Assignment 15: List Intersection\n",
    "# Write a function that takes two lists and returns a new list containing only the elements that are present in both lists. \n",
    "# Print the intersected list.\n",
    "\n",
    "def listIntersection(list1,list2):\n",
    "    IntersectedList = [i for i in list1 if i in list2]\n",
    "    return IntersectedList\n",
    "\n",
    "list_1 = [1,2,3,4,5]\n",
    "list_2 = [6,2,8,9,1]\n",
    "Intersected_list = listIntersection(list_1,list_2)\n",
    "print(Intersected_list)"
   ]
  }
 ],
 "metadata": {
  "kernelspec": {
   "display_name": "Python 3",
   "language": "python",
   "name": "python3"
  },
  "language_info": {
   "codemirror_mode": {
    "name": "ipython",
    "version": 3
   },
   "file_extension": ".py",
   "mimetype": "text/x-python",
   "name": "python",
   "nbconvert_exporter": "python",
   "pygments_lexer": "ipython3",
   "version": "3.12.0"
  }
 },
 "nbformat": 4,
 "nbformat_minor": 5
}
