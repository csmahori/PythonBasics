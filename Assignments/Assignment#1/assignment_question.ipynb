{
 "cells": [
  {
   "cell_type": "markdown",
   "metadata": {},
   "source": [
    "# Lesson 1.2: Python Basics\n",
    "## Topics Covered:\n",
    "- Syntax and Semantics\n",
    "- Variables and Data Types\n",
    "- Basic Operators (Arithmetic, Comparison, Logical)\n"
   ]
  },
  {
   "cell_type": "markdown",
   "metadata": {},
   "source": [
    "## 1. Syntax and Semantics\n",
    "\n",
    "**Question 1:** Write a Python program to print \"Hello, World!\"."
   ]
  },
  {
   "cell_type": "code",
   "execution_count": 1,
   "metadata": {},
   "outputs": [
    {
     "name": "stdout",
     "output_type": "stream",
     "text": [
      "Hello, World!\n"
     ]
    }
   ],
   "source": [
    "print(\"Hello, World!\");"
   ]
  },
  {
   "cell_type": "markdown",
   "metadata": {},
   "source": [
    "**Question 2:** Write a Python program that takes a user input and prints it."
   ]
  },
  {
   "cell_type": "code",
   "execution_count": 3,
   "metadata": {},
   "outputs": [
    {
     "name": "stdout",
     "output_type": "stream",
     "text": [
      "I am entering an Input\n"
     ]
    }
   ],
   "source": [
    "print(input(\"Enter some input\"));"
   ]
  },
  {
   "cell_type": "markdown",
   "metadata": {},
   "source": [
    "**Question 3:** Write a Python program to check if a number is positive, negative, or zero."
   ]
  },
  {
   "cell_type": "code",
   "execution_count": 22,
   "metadata": {},
   "outputs": [
    {
     "name": "stdout",
     "output_type": "stream",
     "text": [
      "Entered number is: -885\n",
      "-885 is a negative number\n"
     ]
    }
   ],
   "source": [
    "a = int(input(\"Enter a number\"));\n",
    "print(\"Entered number is:\",a)\n",
    "if a > 0:\n",
    "    print(a, \"is a positive number\")\n",
    "elif a < 0:\n",
    "    print(a, \"is a negative number\")\n",
    "elif a == 0:\n",
    "    print(a, \"is a zero\")"
   ]
  },
  {
   "cell_type": "markdown",
   "metadata": {},
   "source": [
    "**Question 4:** Write a Python program to find the largest of three numbers."
   ]
  },
  {
   "cell_type": "code",
   "execution_count": 24,
   "metadata": {},
   "outputs": [
    {
     "name": "stdout",
     "output_type": "stream",
     "text": [
      "Entered Numbers are: 52 45 22\n",
      "52 is the largest number of all\n"
     ]
    }
   ],
   "source": [
    "a = int(input(\"Enter first number\"))\n",
    "b = int(input(\"Enter second number\"))\n",
    "c = int(input(\"Enter third number\"))\n",
    "\n",
    "print(\"Entered Numbers are:\",a,b,c)\n",
    "if a > b and a > c:\n",
    "    print(a, \"is the largest number of all\")\n",
    "elif b > a and b > c:\n",
    "    print(b, \"is the largest number of all\")\n",
    "elif c > b and c > a:\n",
    "    print(c, \"is the largest number of all\")"
   ]
  },
  {
   "cell_type": "markdown",
   "metadata": {},
   "source": [
    "**Question 5:** Write a Python program to calculate the factorial of a number."
   ]
  },
  {
   "cell_type": "code",
   "execution_count": 34,
   "metadata": {},
   "outputs": [
    {
     "name": "stdout",
     "output_type": "stream",
     "text": [
      "Factorial of 3 is 6\n"
     ]
    }
   ],
   "source": [
    "def fact(n):\n",
    "    if n == 0 or n == 1:\n",
    "        return 1\n",
    "    return n * fact(n-1)\n",
    "\n",
    "a=int(input(\"enter a number:\"))\n",
    "print(\"Factorial of\",a,\"is\",fact(a))"
   ]
  },
  {
   "cell_type": "markdown",
   "metadata": {},
   "source": [
    "## 2. Variables and Data Types\n",
    "\n",
    "**Question 6:** Create variables of different data types: integer, float, string, and boolean. Print their values and types."
   ]
  },
  {
   "cell_type": "code",
   "execution_count": 39,
   "metadata": {},
   "outputs": [
    {
     "name": "stdout",
     "output_type": "stream",
     "text": [
      "Values of variables:\n",
      "a_num: 400\n",
      "a_str: Four Hundred\n",
      "a_float: 400.0\n",
      "a_boolean: True \n",
      "\n",
      "Types of variables:\n",
      "a_num: <class 'int'>\n",
      "a_str <class 'str'>\n",
      "a_float <class 'float'>\n",
      "a_boolean <class 'bool'>\n"
     ]
    }
   ],
   "source": [
    "a_num = 400\n",
    "a_str = 'Four Hundred'\n",
    "a_float = 400.00\n",
    "a_boolean = True\n",
    "\n",
    "print(\"Values of variables:\")\n",
    "print(\"a_num:\",a_num)\n",
    "print(\"a_str:\",a_str)\n",
    "print(\"a_float:\",a_float)\n",
    "print(\"a_boolean:\",a_boolean,\"\\n\")\n",
    "\n",
    "print(\"Types of variables:\")\n",
    "print(\"a_num:\",type(a_num))\n",
    "print(\"a_str\",type(a_str))\n",
    "print(\"a_float\",type(a_float))\n",
    "print(\"a_boolean\",type(a_boolean))"
   ]
  },
  {
   "cell_type": "markdown",
   "metadata": {},
   "source": [
    "**Question 7:** Write a Python program to swap the values of two variables."
   ]
  },
  {
   "cell_type": "code",
   "execution_count": 45,
   "metadata": {},
   "outputs": [
    {
     "name": "stdout",
     "output_type": "stream",
     "text": [
      "Entered values are,\n",
      "First: 5 \n",
      "Second: 47\n",
      "\n",
      "After swapping, values are,\n",
      "First: 47 \n",
      "Second: 5\n"
     ]
    }
   ],
   "source": [
    "a = input(\"Enter first number\")\n",
    "b = input(\"Enter second number\")\n",
    "print(\"Entered values are,\\nFirst:\",a,\"\\nSecond:\",b)\n",
    "x=a\n",
    "a=b\n",
    "b=x\n",
    "print(\"\\nAfter swapping, values are,\\nFirst:\",a,\"\\nSecond:\",b)\n"
   ]
  },
  {
   "cell_type": "markdown",
   "metadata": {},
   "source": [
    "**Question 8:** Write a Python program to convert Celsius to Fahrenheit."
   ]
  },
  {
   "cell_type": "code",
   "execution_count": 50,
   "metadata": {},
   "outputs": [
    {
     "name": "stdout",
     "output_type": "stream",
     "text": [
      "Temperature entered in celcius is:\n",
      " 25\n",
      "Temperature entered in Fahrenheit is:\n",
      " 77\n"
     ]
    }
   ],
   "source": [
    "temp = int(input(\"Enter temperature in celcius\"))\n",
    "print(\"Temperature entered in celcius is:\\n\",temp)\n",
    "temp = int((temp* (9/5))+32)\n",
    "print(\"Temperature entered in Fahrenheit is:\\n\",temp)"
   ]
  },
  {
   "cell_type": "markdown",
   "metadata": {},
   "source": [
    "**Question 9:** Write a Python program to concatenate two strings."
   ]
  },
  {
   "cell_type": "code",
   "execution_count": 53,
   "metadata": {},
   "outputs": [
    {
     "name": "stdout",
     "output_type": "stream",
     "text": [
      "first String entered is: Hello\n",
      "second String entered is: World!\n",
      "concatenated string: Hello World!\n"
     ]
    }
   ],
   "source": [
    "first_str = input(\"Enter first string:\")\n",
    "second_str = input(\"Enter second string:\")\n",
    "\n",
    "print(\"first String entered is:\",first_str)\n",
    "print(\"second String entered is:\",second_str)\n",
    "\n",
    "print(\"concatenated string:\",first_str,second_str)"
   ]
  },
  {
   "cell_type": "markdown",
   "metadata": {},
   "source": [
    "**Question 10:** Write a Python program to check if a variable is of a specific data type."
   ]
  },
  {
   "cell_type": "code",
   "execution_count": 59,
   "metadata": {},
   "outputs": [
    {
     "name": "stdout",
     "output_type": "stream",
     "text": [
      "Entered value is 500\n",
      "<class 'str'>\n",
      "It's a string variable\n"
     ]
    }
   ],
   "source": [
    "a_num = input(\"Enter some value\")\n",
    "print(f\"Entered value is {a_num}\")\n",
    "print(type(a_num))\n",
    "if type(a_num) == int:\n",
    "    print(\"It's a int variable\")\n",
    "elif type(a_num == str):\n",
    "    print(\"It's a string variable\")"
   ]
  },
  {
   "cell_type": "markdown",
   "metadata": {},
   "source": [
    "## 3. Basic Operators (Arithmetic, Comparison, Logical)\n",
    "\n",
    "**Question 11:** Write a Python program to perform arithmetic operations: addition, subtraction, multiplication, and division."
   ]
  },
  {
   "cell_type": "code",
   "execution_count": 9,
   "metadata": {},
   "outputs": [
    {
     "name": "stdout",
     "output_type": "stream",
     "text": [
      "Entered arithemtic operation is -\n",
      "Subtraction of 85 and 74 is 11\n"
     ]
    }
   ],
   "source": [
    "arthm_oprn = input(\"Which arithemtic operation('+' or '-' or '*' or '/') would you like to perform?\")\n",
    "print(\"Entered arithemtic operation is\",arthm_oprn)\n",
    "if arthm_oprn == '+':  \n",
    "    a,b = map(int,input(\"enter two numbers to perform addition\").split())\n",
    "    print(f\"Addition of {a} and {b} is {a+b}\")\n",
    "elif arthm_oprn == '-':\n",
    "    a,b = map(int,input(\"enter two numbers to perform subtraction\").split())\n",
    "    print(f\"Subtraction of {a} and {b} is {a-b}\")\n",
    "elif arthm_oprn == '*':\n",
    "    a,b = map(int,input(\"enter two numbers to perform multiplication\").split())\n",
    "    print(f\"Multiplication of {a} and {b} is {a*b}\")\n",
    "elif arthm_oprn == '/':\n",
    "    a,b = map(int,input(\"enter two numbers to perform division\").split())\n",
    "    print(f\"Division of {a} and {b} is {a/b}\")\n",
    "else:\n",
    "    print(\"Invalid input entered\")\n"
   ]
  },
  {
   "cell_type": "markdown",
   "metadata": {},
   "source": [
    "**Question 12:** Write a Python program to demonstrate comparison operators: equal to, not equal to, greater than, less than."
   ]
  },
  {
   "cell_type": "code",
   "execution_count": 15,
   "metadata": {},
   "outputs": [
    {
     "name": "stdout",
     "output_type": "stream",
     "text": [
      "99 and 99 are equal numbers\n"
     ]
    }
   ],
   "source": [
    "a,b = map(int,input(\"Enter two numbers\").split())\n",
    "if a == b:\n",
    "    print(f\"{a} and {b} are equal numbers\")\n",
    "elif a != b:\n",
    "    print(f\"{a} is not equal to {b}\")\n",
    "    if a < b:\n",
    "        print(f\"where {b} is greater than {a}\")\n",
    "    elif a > b:\n",
    "        print(f\"where {a} is greater than {b}\")"
   ]
  },
  {
   "cell_type": "markdown",
   "metadata": {},
   "source": [
    "**Question 13:** Write a Python program to demonstrate logical operators: and, or, not."
   ]
  },
  {
   "cell_type": "code",
   "execution_count": 18,
   "metadata": {},
   "outputs": [
    {
     "name": "stdout",
     "output_type": "stream",
     "text": [
      "Numbers entered are\n",
      "a: 12\n",
      "b: 14\n",
      "c: 11\n",
      "b:14 is the largest of all\n",
      "a is at least grater than one of the other two numbers\n",
      "b is at least grater than one of the other two numbers\n"
     ]
    }
   ],
   "source": [
    "a,b,c = map(int,input(\"Enter 3 numbers\").split())\n",
    "print(f\"Numbers entered are\\na: {a}\\nb: {b}\\nc: {c}\")\n",
    "if a > b and b > c:\n",
    "    print(f\"a:{a} is the largest of all\")\n",
    "elif b > a and not c > a:\n",
    "    print(f\"b:{b} is the largest of all\")\n",
    "elif c > a and c > b:\n",
    "    print(f\"c:{c} is the largest of all\")\n",
    "elif a == b and a == c:\n",
    "    print(\"all numbers are equal\")\n",
    "if a > b or a > c:\n",
    "    print(\"a is at least grater than one of the other two numbers\")\n",
    "if b > a or b > c:\n",
    "    print(\"b is at least grater than one of the other two numbers\")\n",
    "if c > b or c > a:\n",
    "    print(\"c is at least grater than one of the other two numbers\")      "
   ]
  },
  {
   "cell_type": "markdown",
   "metadata": {},
   "source": [
    "**Question 14:** Write a Python program to calculate the square of a number."
   ]
  },
  {
   "cell_type": "code",
   "execution_count": 22,
   "metadata": {},
   "outputs": [
    {
     "name": "stdout",
     "output_type": "stream",
     "text": [
      "square of the number 4 is 16\n"
     ]
    }
   ],
   "source": [
    "a = int(input(\"enter the number\"))\n",
    "square = a**2\n",
    "print(f\"square of the number {a} is {square}\")"
   ]
  },
  {
   "cell_type": "markdown",
   "metadata": {},
   "source": [
    "**Question 15:** Write a Python program to check if a number is even or odd."
   ]
  },
  {
   "cell_type": "code",
   "execution_count": 1,
   "metadata": {},
   "outputs": [
    {
     "name": "stdout",
     "output_type": "stream",
     "text": [
      "Entered number 5 is an Odd Number\n"
     ]
    }
   ],
   "source": [
    "a = int(input(\"Enter a number\"))\n",
    "if a%2==0:\n",
    "    print(f\"Entered Number {a} is an Even Number\")\n",
    "else:\n",
    "    print(f\"Entered number {a} is an Odd Number\")\n"
   ]
  },
  {
   "cell_type": "markdown",
   "metadata": {},
   "source": [
    "**Question 16:** Write a Python program to find the sum of the first n natural numbers."
   ]
  },
  {
   "cell_type": "code",
   "execution_count": 7,
   "metadata": {},
   "outputs": [
    {
     "name": "stdout",
     "output_type": "stream",
     "text": [
      "Sum of first 3 natural numbers is 6\n"
     ]
    }
   ],
   "source": [
    "n=int(input(\"Enter the value of n\"))\n",
    "sum = 0\n",
    "for i in range(1,n+1):\n",
    "    sum = sum + i\n",
    "print(f\"Sum of first {n} natural numbers is {sum}\")    "
   ]
  },
  {
   "cell_type": "markdown",
   "metadata": {},
   "source": [
    "**Question 17:** Write a Python program to check if a year is a leap year."
   ]
  },
  {
   "cell_type": "code",
   "execution_count": 11,
   "metadata": {},
   "outputs": [
    {
     "name": "stdout",
     "output_type": "stream",
     "text": [
      "Entered year 4 is a Leap year\n"
     ]
    }
   ],
   "source": [
    "year = int(input(\"Enter the year\"))\n",
    "if year%4 == 0:\n",
    "    print(f\"Entered year {year} is a Leap year\")\n",
    "else:\n",
    "    print(f\"Entered year {year} is a Non Leap year\")"
   ]
  },
  {
   "cell_type": "markdown",
   "metadata": {},
   "source": [
    "**Question 18:** Write a Python program to reverse a string."
   ]
  },
  {
   "cell_type": "code",
   "execution_count": 19,
   "metadata": {},
   "outputs": [
    {
     "name": "stdout",
     "output_type": "stream",
     "text": [
      "Reverse of \"Hello People\" is \"elpoeP olleH \"\n"
     ]
    }
   ],
   "source": [
    "string = input(\"Enter a string\")\n",
    "reverseString = \" \"\n",
    "for i in string:\n",
    "    reverseString = i + str(reverseString)\n",
    "print(f\"Reverse of \\\"{string}\\\" is \\\"{reverseString}\\\"\")"
   ]
  },
  {
   "cell_type": "markdown",
   "metadata": {},
   "source": [
    "**Question 19:** Write a Python program to check if a string is a palindrome."
   ]
  },
  {
   "cell_type": "code",
   "execution_count": 23,
   "metadata": {},
   "outputs": [
    {
     "name": "stdout",
     "output_type": "stream",
     "text": [
      "Entered string \"hari\" is not a palindrome\n"
     ]
    }
   ],
   "source": [
    "def reverse(string):\n",
    "    reverseString = ' '\n",
    "    for i in string:\n",
    "        reverseString = i + str(reverseString)\n",
    "\n",
    "string = input(\"Enter a string\")\n",
    "if reverse(string) == string:\n",
    "    print(f\"Entered string \\\"{string}\\\" is a palindrome\")\n",
    "else:\n",
    "    print(f\"Entered string \\\"{string}\\\" is not a palindrome\")\n",
    "    "
   ]
  },
  {
   "cell_type": "markdown",
   "metadata": {},
   "source": [
    "**Question 20:** Write a Python program to sort a list of numbers in ascending order."
   ]
  },
  {
   "cell_type": "code",
   "execution_count": 30,
   "metadata": {},
   "outputs": [
    {
     "name": "stdout",
     "output_type": "stream",
     "text": [
      "Entered list is:  [112, 145, 2, 1, 45, 741, 4154, 122, 2589]\n",
      "Sort list:  [1, 2, 45, 112, 122, 145, 741, 2589, 4154]\n"
     ]
    }
   ],
   "source": [
    "numbers = list(map(int, input(\"Enter numbers: \").split()))\n",
    "print(\"Entered list is: \",numbers)\n",
    "numbers.sort()\n",
    "print(\"Sort list: \",numbers)"
   ]
  }
 ],
 "metadata": {
  "kernelspec": {
   "display_name": "Python 3",
   "language": "python",
   "name": "python3"
  },
  "language_info": {
   "codemirror_mode": {
    "name": "ipython",
    "version": 3
   },
   "file_extension": ".py",
   "mimetype": "text/x-python",
   "name": "python",
   "nbconvert_exporter": "python",
   "pygments_lexer": "ipython3",
   "version": "3.12.0"
  }
 },
 "nbformat": 4,
 "nbformat_minor": 4
}
